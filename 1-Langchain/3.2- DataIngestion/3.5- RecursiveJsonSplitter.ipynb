{
 "cells": [
  {
   "cell_type": "code",
   "execution_count": null,
   "id": "736f8210",
   "metadata": {},
   "outputs": [],
   "source": [
    "import json\n",
    "import requests\n",
    "json_data = requests.get()"
   ]
  },
  {
   "cell_type": "code",
   "execution_count": null,
   "id": "3cd56e11",
   "metadata": {},
   "outputs": [],
   "source": [
    "from langchain_text_splitters import RecursiveJsonSplitter\n",
    "json_splitter = RecursiveJsonSplitter()\n",
    "\n",
    "json_chunks = json_splitter.split_json(json_data)"
   ]
  }
 ],
 "metadata": {
  "kernelspec": {
   "display_name": "Python 3",
   "language": "python",
   "name": "python3"
  },
  "language_info": {
   "name": "python",
   "version": "3.10.0"
  }
 },
 "nbformat": 4,
 "nbformat_minor": 5
}
